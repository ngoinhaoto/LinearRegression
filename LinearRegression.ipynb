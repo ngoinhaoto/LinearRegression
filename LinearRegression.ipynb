{
 "cells": [
  {
   "cell_type": "code",
   "execution_count": null,
   "metadata": {
    "vscode": {
     "languageId": "plaintext"
    }
   },
   "outputs": [],
   "source": [
    "Ex2: Program to find w(using example and formula W = (X.T*X)^-1 * X.T * y from the video) by using Linear Regression"
   ]
  },
  {
   "cell_type": "code",
   "execution_count": 17,
   "metadata": {},
   "outputs": [],
   "source": [
    "import numpy as np\n",
    "\n",
    "\n",
    "import matplotlib.pyplot as plt\n",
    "\n",
    "\n"
   ]
  },
  {
   "cell_type": "code",
   "execution_count": 18,
   "metadata": {},
   "outputs": [],
   "source": [
    "\n",
    "#độ c\n",
    "data = np.array([[-40, -30,-20, -10, 0, 8, 15, 22, 30]])\n",
    "#target: độ f\n",
    "target = np.array([[-39, -22, -3, 13, 33, 45, 60, 71, 101]])\n"
   ]
  },
  {
   "cell_type": "code",
   "execution_count": 19,
   "metadata": {},
   "outputs": [
    {
     "data": {
      "text/plain": [
       "<function matplotlib.pyplot.show(close=None, block=None)>"
      ]
     },
     "execution_count": 19,
     "metadata": {},
     "output_type": "execute_result"
    },
    {
     "data": {
      "image/png": "[encoded data removed]",
      "text/plain": [
       "<Figure size 640x480 with 1 Axes>"
      ]
     },
     "metadata": {},
     "output_type": "display_data"
    }
   ],
   "source": [
    "#plotting target and data\n",
    "plt.plot(data, target, 'ro')\n",
    "\n",
    "plt.plot(data, target)\n",
    "plt.axis([-40, 38, -40, 100])\n",
    "plt.xlabel(\"C\")\n",
    "plt.ylabel(\"Y\")\n",
    "plt.show"
   ]
  },
  {
   "cell_type": "code",
   "execution_count": 20,
   "metadata": {},
   "outputs": [
    {
     "data": {
      "text/plain": [
       "array([[-39],\n",
       "       [-22],\n",
       "       [ -3],\n",
       "       [ 13],\n",
       "       [ 33],\n",
       "       [ 45],\n",
       "       [ 60],\n",
       "       [ 71],\n",
       "       [101]])"
      ]
     },
     "execution_count": 20,
     "metadata": {},
     "output_type": "execute_result"
    }
   ],
   "source": [
    "y = target.T\n",
    "X = data.T\n",
    "\n",
    "\n",
    "y\n",
    "\n",
    "\n"
   ]
  },
  {
   "cell_type": "code",
   "execution_count": 21,
   "metadata": {},
   "outputs": [
    {
     "data": {
      "text/plain": [
       "array([[-40],\n",
       "       [-30],\n",
       "       [-20],\n",
       "       [-10],\n",
       "       [  0],\n",
       "       [  8],\n",
       "       [ 15],\n",
       "       [ 22],\n",
       "       [ 30]])"
      ]
     },
     "execution_count": 21,
     "metadata": {},
     "output_type": "execute_result"
    }
   ],
   "source": [
    "X"
   ]
  },
  {
   "cell_type": "code",
   "execution_count": 22,
   "metadata": {},
   "outputs": [
    {
     "data": {
      "text/plain": [
       "array([[1.],\n",
       "       [1.],\n",
       "       [1.],\n",
       "       [1.],\n",
       "       [1.],\n",
       "       [1.],\n",
       "       [1.],\n",
       "       [1.],\n",
       "       [1.]])"
      ]
     },
     "execution_count": 22,
     "metadata": {},
     "output_type": "execute_result"
    }
   ],
   "source": [
    "#[1 x] [w0\n",
    "#      w1] \n",
    "#cần phải thêm 1 vào cho X\n",
    "\n",
    "one = np.ones((X.shape[0], 1) )\n",
    "one"
   ]
  },
  {
   "cell_type": "code",
   "execution_count": 23,
   "metadata": {},
   "outputs": [
    {
     "data": {
      "text/plain": [
       "array([[  1., -40.],\n",
       "       [  1., -30.],\n",
       "       [  1., -20.],\n",
       "       [  1., -10.],\n",
       "       [  1.,   0.],\n",
       "       [  1.,   8.],\n",
       "       [  1.,  15.],\n",
       "       [  1.,  22.],\n",
       "       [  1.,  30.]])"
      ]
     },
     "execution_count": 23,
     "metadata": {},
     "output_type": "execute_result"
    }
   ],
   "source": [
    "X = np.concatenate((one, X), axis = 1) #axis = 1 là cột dọc\n",
    "X"
   ]
  },
  {
   "cell_type": "code",
   "execution_count": 24,
   "metadata": {},
   "outputs": [
    {
     "data": {
      "text/plain": [
       "array([[34.04028287],\n",
       "       [ 1.89450183]])"
      ]
     },
     "execution_count": 24,
     "metadata": {},
     "output_type": "execute_result"
    }
   ],
   "source": [
    "#weight W = (X.T * X)^-1 * X.T * y\n",
    "#np.linalg.pinv: pseudo-inverse of a matrix\n",
    "\n",
    "\n",
    "#Tính W theo công thức của thầy\n",
    "W = np.dot(np.linalg.pinv(np.dot(X.T,X)), np.dot(X.T, y))\n",
    "\n",
    "W \n",
    "# W0 = 34.04, W1 = 1.89\n",
    "# f(x) = 1.80a + 34.04\n",
    "\n",
    "#thực ra không chạy được như này vì data target rất là dài, và việc đạo hàm = 0 là rất khó đối với data và target là rất là khó\n",
    "\n",
    "#Vì vậy ta dùng gradient descent\n"
   ]
  }
 ],
 "metadata": {
  "kernelspec": {
   "display_name": "Python 3.11.4 ('base')",
   "language": "python",
   "name": "python3"
  },
  "language_info": {
   "codemirror_mode": {
    "name": "ipython",
    "version": 3
   },
   "file_extension": ".py",
   "mimetype": "text/x-python",
   "name": "python",
   "nbconvert_exporter": "python",
   "pygments_lexer": "ipython3",
   "version": "3.11.4"
  },
  "orig_nbformat": 4,
  "vscode": {
   "interpreter": {
    "hash": "cd2f65b880418e582f40063e7947e1995392960861f5ac048513f3e501a83530"
   }
  }
 },
 "nbformat": 4,
 "nbformat_minor": 2
}
